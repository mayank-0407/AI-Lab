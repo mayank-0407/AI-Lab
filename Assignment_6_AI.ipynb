{
  "nbformat": 4,
  "nbformat_minor": 0,
  "metadata": {
    "colab": {
      "provenance": [],
      "include_colab_link": true
    },
    "kernelspec": {
      "name": "python3",
      "display_name": "Python 3"
    },
    "language_info": {
      "name": "python"
    }
  },
  "cells": [
    {
      "cell_type": "markdown",
      "metadata": {
        "id": "view-in-github",
        "colab_type": "text"
      },
      "source": [
        "<a href=\"https://colab.research.google.com/github/mayank-0407/AI-Lab/blob/main/Assignment_6_AI.ipynb\" target=\"_parent\"><img src=\"https://colab.research.google.com/assets/colab-badge.svg\" alt=\"Open In Colab\"/></a>"
      ]
    },
    {
      "cell_type": "code",
      "execution_count": 2,
      "metadata": {
        "colab": {
          "base_uri": "https://localhost:8080/"
        },
        "id": "vYac-tvqCj9Y",
        "outputId": "4e0d4b9e-4a6e-4728-e4fb-a4931c3e8771"
      },
      "outputs": [
        {
          "output_type": "stream",
          "name": "stdout",
          "text": [
            "[1, 0, 1, 0]  :  11\n",
            "[1, 0, 1, 0]  :  11\n",
            "[0, 0, 1, 0]  :  8\n",
            "[1, 1, 1, 1]  :  0\n"
          ]
        }
      ],
      "source": [
        "import copy\n",
        "import math\n",
        "import random as r\n",
        "val=[3,5,8,10]\n",
        "wei=[45,40,50,90]\n",
        "class chromosome:\n",
        "    def __init__(self,chrome,cap):\n",
        "        self.ch=chrome\n",
        "        self.weight=0\n",
        "        for i in range(len(chrome)):\n",
        "            self.weight+=self.ch[i]*wei[i]\n",
        "        self.value=0\n",
        "        for i in range(len(chrome)):\n",
        "            self.value+=self.ch[i]*val[i]\n",
        "        if(self.weight<=cap):\n",
        "            self.fitness=self.value\n",
        "        else:\n",
        "            self.fitness=0\n",
        "cb=3\n",
        "def mate(first,second,cb):\n",
        "    nc1=[]\n",
        "    nc2=[]\n",
        "    for i in range(2):\n",
        "        nc1.append(first.ch[i])\n",
        "        nc2.append(second.ch[i])\n",
        "    for i in range(2):\n",
        "        nc1.append(second.ch[2+i])\n",
        "        nc2.append(first.ch[2+i])\n",
        "    if(nc1[cb]==1):\n",
        "        nc1[cb]=0\n",
        "        cb=(cb+1)%4\n",
        "    else:\n",
        "        nc1[cb]=1\n",
        "        cb=(cb+1)%4\n",
        "    return nc1,nc2,cb\n",
        "n=10\n",
        "cp=[]\n",
        "w=100\n",
        "initial=[[1,1,1,1],[1,0,0,0],[1,0,1,0],[1,0,0,1]]\n",
        "for i in range(len(initial)):\n",
        "    newchromosome=chromosome(initial[i],w)\n",
        "    cp.append(newchromosome)\n",
        "import operator\n",
        "for i in range(n):\n",
        "    cp=sorted(cp,key=operator.attrgetter(\"fitness\"),reverse=True)\n",
        "    n1,n2,cb=mate(cp[2],cp[3],cb)\n",
        "    new3=chromosome(n1,w)\n",
        "    new4=chromosome(n2,w)\n",
        "    cp[2]=new3\n",
        "    cp[3]=new4\n",
        "for i in cp:\n",
        "    print(i.ch,\" : \",i.fitness)"
      ]
    },
    {
      "cell_type": "code",
      "source": [
        "v=[3,5,8,10]\n",
        "currpop=[]\n",
        "w=[45,40,50,90]\n",
        "def fun(chromosomea,chromosomeb):\n",
        "    l1=[]\n",
        "    l2=[]\n",
        "    for i in range(2):\n",
        "        l1.append(chromosomea.ch[i])\n",
        "        l2.append(chromosomeb.ch[i])\n",
        "    for i in range(2):\n",
        "        l1.append(chromosomeb.ch[2+i])\n",
        "        l2.append(chromosomea.ch[2+i])\n",
        "    if(l1[3]==1):\n",
        "        l1[3]=0\n",
        "    else:\n",
        "        l1[3]=1\n",
        "    return l1,l2\n",
        "class chromosome:\n",
        "    def __init__(self,chr,cap):\n",
        "        self.ch=chr\n",
        "        self.wei=0\n",
        "        for i in range(len(chr)):\n",
        "            self.wei+=self.ch[i]*w[i]\n",
        "        self.value=0\n",
        "        for i in range(len(chr)):\n",
        "            self.value+=self.ch[i]*v[i]\n",
        "        if(self.wei<=cap):\n",
        "            self.fitness=self.value\n",
        "        else:\n",
        "            self.fitness=0\n",
        "initial=[[1,1,1,1],[1,0,0,0],[1,0,1,0],[1,0,0,1]]\n",
        "for i in range(len(initial)):\n",
        "    newchromosome=chromosome(initial[i],100)\n",
        "    currpop.append(newchromosome)\n",
        "import operator as op\n",
        "for i in range(10):\n",
        "    currpop=sorted(currpop,key=op.attrgetter(\"fitness\"),reverse=True)\n",
        "    n1,n2=fun(currpop[2],currpop[3])\n",
        "    new3=chromosome(n1,100)\n",
        "    new4=chromosome(n2,100)\n",
        "    currpop[2]=new3\n",
        "    currpop[3]=new4\n",
        "for i in currpop:\n",
        "    print(i.ch,\" : \",i.fitness)"
      ],
      "metadata": {
        "colab": {
          "base_uri": "https://localhost:8080/"
        },
        "id": "NEhKjq4FGDxU",
        "outputId": "ed58aa3f-493e-4fa7-bc54-1f495f01d754"
      },
      "execution_count": 4,
      "outputs": [
        {
          "output_type": "stream",
          "name": "stdout",
          "text": [
            "[1, 0, 1, 0]  :  11\n",
            "[1, 0, 1, 0]  :  11\n",
            "[1, 0, 0, 0]  :  3\n",
            "[1, 1, 0, 0]  :  8\n"
          ]
        }
      ]
    },
    {
      "cell_type": "code",
      "source": [
        "import copy\n",
        "import math\n",
        "import random as r\n",
        "r.seed(8)\n",
        "def caldele(parent,child):\n",
        "    dele = float(heuristic(child) - heuristic(parent))\n",
        "    return dele\n",
        "def samp(prob):\n",
        "    ans = r.uniform(0,1)\n",
        "    if ans >= prob:\n",
        "        return 1\n",
        "    else:\n",
        "        return 0\n",
        "def search(initial_sol,f,F):\n",
        "    parent = initial_sol\n",
        "    curr_max = heuristic(initial_sol)\n",
        "    count = 0\n",
        "    sol_list = []\n",
        "    while count < 100:\n",
        "        m = 0\n",
        "        while m < 5:\n",
        "            child = movegen(parent)\n",
        "            dele = caldele(parent,child)\n",
        "            if dele >= 0:\n",
        "                break\n",
        "            prob = sigmoid_with_temp(dele)\n",
        "            ans = samp(prob)\n",
        "            if ans == 1:\n",
        "                m = 0\n",
        "                break\n",
        "            else:\n",
        "                m += 1\n",
        "        if heuristic(child) == 5:\n",
        "            if child not in sol_list:\n",
        "                sol_list += [child]\n",
        "        if heuristic(child) > curr_max:\n",
        "            optimal_child = child\n",
        "            curr_max = heuristic(child)\n",
        "        parent = child\n",
        "        a,b,c,d = parent\n",
        "        count += 1\n",
        "    if len(sol_list) == 0:\n",
        "        print(\"optimal sol:\",optimal_child)\n",
        "    else:\n",
        "        print(sol_list)\n",
        "def movegen(parent):\n",
        "    random_index = r.randint(0,3)\n",
        "    child = copy.deepcopy(parent)\n",
        "    if parent[random_index] == 1:\n",
        "        child[random_index] = 0\n",
        "    else:\n",
        "        child[random_index] = 1\n",
        "    return child\n",
        "def sigmoid_with_temp(dele):\n",
        "    prob = 1 / (1 + math.exp((-dele)/5000))\n",
        "    return prob\n",
        "def heuristic(sol):\n",
        "    a,b,c,d = sol\n",
        "    f = [[not a or d] , [c or b], [not c or not d] , [not d or not b] , [not a or not d]]\n",
        "    F = f[0] and f[1] and f[2] and f[3] and f[4]\n",
        "    c = 0\n",
        "    for i in range(len(f)):\n",
        "        if f[i][0] == True:\n",
        "            c += 1\n",
        "    return c\n",
        "initial_sol = [1,1,1,1]\n",
        "a,b,c,d = initial_sol\n",
        "f = [[not a or d] , [c or b], [not c or not d] , [not d or not b] , [not a or not d]]\n",
        "F = f[0] and f[1] and f[2] and f[3] and f[4]\n",
        "search(initial_sol,f,F)"
      ],
      "metadata": {
        "colab": {
          "base_uri": "https://localhost:8080/"
        },
        "id": "DOZJ0Sb8GWCC",
        "outputId": "4600c270-f73c-4973-cf62-b467701ab7e4"
      },
      "execution_count": 5,
      "outputs": [
        {
          "output_type": "stream",
          "name": "stdout",
          "text": [
            "[[0, 1, 0, 0], [0, 0, 1, 0], [0, 1, 1, 0]]\n"
          ]
        }
      ]
    }
  ]
}